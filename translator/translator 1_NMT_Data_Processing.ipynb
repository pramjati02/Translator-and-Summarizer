{
  "nbformat": 4,
  "nbformat_minor": 0,
  "metadata": {
    "colab": {
      "provenance": []
    },
    "kernelspec": {
      "name": "python3",
      "display_name": "Python 3"
    },
    "language_info": {
      "name": "python"
    }
  },
  "cells": [
    {
      "cell_type": "markdown",
      "source": [
        "# Data Gathering and Processing\n",
        "\n",
        "To build a Machine Translation system, you need bilingual data, i.e. source sentences and their translations. You can use public bilingual corpora/datasets or you can use your translation memories (TMs). However, NMT requires a lot of data to train a good model, that is why most companies start with training a strong baseline model using public bilingual datasets, and then fine-tune this baseline model on their TMs. Sometimes also you can use pre-trained models directly for fine-tuning.\n",
        "\n",
        "The majority of public bilingual datasets are collected on OPUS: https://opus.nlpl.eu/\n",
        "\n",
        "Most of the datasets can be used for both commercial and non-commercial uses; however, some of them have more restricted licences. So you have to double-check the licence of a dataset before using it.\n",
        "\n",
        "On OPUS, go to “Search & download resources” and choose two languages from the drop-down lists. You will see how it will list the available language datasets for this language pair. Try to use non-variant language codes like “en” for English and “fr” for French to get all the variants under this language. To know more details about a specific dataset, click its name.\n",
        "\n",
        "In Machine Translation, we use the “Moses” format. Go ahead and try to download the “tico-19 v2020-10-28” by clicking “moses”. This will download a *.zip file; when you extract it, the two files that you care about are those whose names ending by the language codes. For example, for English to French, you will have “tico-19.en-fr.en” and “tico-19.en-fr.fr“. You can open these files with any text editor. Each file has a sentence/segment per line, and it is matching translation in the same line in the other file. This is what the \"Moses\" file format means.\n",
        "\n",
        "Note that not all datasets are of the same quality. Some datasets have lower quality, especially big corpora crawled from the web. Check the provided “sample” before using the dataset. Nevertheless, even high-quality datasets, like those from the UN and EU, require filtering.\n",
        "\n"
      ],
      "metadata": {
        "id": "XMk-V8nT9IpU"
      }
    },
    {
      "cell_type": "code",
      "metadata": {
        "id": "bLRpsedwqLg4",
        "colab": {
          "base_uri": "https://localhost:8080/"
        },
        "outputId": "f0e6d1e6-8ee1-4149-a309-47507d1a6740"
      },
      "source": [
        "# Create a directory and clone the Github MT-Preparation repository\n",
        "!mkdir -p nmt\n",
        "%cd nmt\n",
        "!git clone https://github.com/ymoslem/MT-Preparation.git"
      ],
      "execution_count": null,
      "outputs": [
        {
          "output_type": "stream",
          "name": "stdout",
          "text": [
            "/content/nmt\n",
            "Cloning into 'MT-Preparation'...\n",
            "remote: Enumerating objects: 207, done.\u001b[K\n",
            "remote: Counting objects: 100% (207/207), done.\u001b[K\n",
            "remote: Compressing objects: 100% (104/104), done.\u001b[K\n",
            "remote: Total 207 (delta 104), reused 184 (delta 94), pack-reused 0\u001b[K\n",
            "Receiving objects: 100% (207/207), 50.84 KiB | 10.17 MiB/s, done.\n",
            "Resolving deltas: 100% (104/104), done.\n"
          ]
        }
      ]
    },
    {
      "cell_type": "code",
      "metadata": {
        "id": "H8d13pqsp3Ii",
        "colab": {
          "base_uri": "https://localhost:8080/"
        },
        "outputId": "98dcc2d5-475f-4843-af3f-ce1ee71265af"
      },
      "source": [
        "# Install the requirements\n",
        "!pip3 install -r MT-Preparation/requirements.txt"
      ],
      "execution_count": null,
      "outputs": [
        {
          "output_type": "stream",
          "name": "stdout",
          "text": [
            "Looking in indexes: https://pypi.org/simple, https://us-python.pkg.dev/colab-wheels/public/simple/\n",
            "Requirement already satisfied: numpy in /usr/local/lib/python3.7/dist-packages (from -r MT-Preparation/requirements.txt (line 1)) (1.21.6)\n",
            "Requirement already satisfied: pandas in /usr/local/lib/python3.7/dist-packages (from -r MT-Preparation/requirements.txt (line 2)) (1.3.5)\n",
            "Requirement already satisfied: sentencepiece in /usr/local/lib/python3.7/dist-packages (from -r MT-Preparation/requirements.txt (line 3)) (0.1.97)\n",
            "Requirement already satisfied: python-dateutil>=2.7.3 in /usr/local/lib/python3.7/dist-packages (from pandas->-r MT-Preparation/requirements.txt (line 2)) (2.8.2)\n",
            "Requirement already satisfied: pytz>=2017.3 in /usr/local/lib/python3.7/dist-packages (from pandas->-r MT-Preparation/requirements.txt (line 2)) (2022.6)\n",
            "Requirement already satisfied: six>=1.5 in /usr/local/lib/python3.7/dist-packages (from python-dateutil>=2.7.3->pandas->-r MT-Preparation/requirements.txt (line 2)) (1.15.0)\n"
          ]
        }
      ]
    },
    {
      "cell_type": "markdown",
      "metadata": {
        "id": "G903Vcm7u08U"
      },
      "source": [
        "# Datasets\n",
        "\n",
        "Example datasets:\n",
        "\n",
        "* EN-AR: https://object.pouta.csc.fi/OPUS-UN/v20090831/moses/ar-en.txt.zip\n",
        "* EN-ES: https://object.pouta.csc.fi/OPUS-UN/v20090831/moses/en-es.txt.zip\n",
        "* EN-FR: https://object.pouta.csc.fi/OPUS-UN/v20090831/moses/en-fr.txt.zip\n",
        "* EN-RU: https://object.pouta.csc.fi/OPUS-UN/v20090831/moses/en-ru.txt.zip\n",
        "* EN-ZH: https://object.pouta.csc.fi/OPUS-UN/v20090831/moses/en-zh.txt.zip"
      ]
    },
    {
      "cell_type": "code",
      "metadata": {
        "id": "6WmiX_xTqqdr",
        "colab": {
          "base_uri": "https://localhost:8080/"
        },
        "outputId": "f8e50277-5465-43ed-ec0f-53a8f9d65eff"
      },
      "source": [
        "# Download and unzip a dataset\n",
        "!wget https://object.pouta.csc.fi/OPUS-UN/v20090831/moses/en-fr.txt.zip\n",
        "!unzip en-fr.txt.zip"
      ],
      "execution_count": null,
      "outputs": [
        {
          "output_type": "stream",
          "name": "stdout",
          "text": [
            "--2022-11-19 18:04:10--  https://object.pouta.csc.fi/OPUS-UN/v20090831/moses/en-fr.txt.zip\n",
            "Resolving object.pouta.csc.fi (object.pouta.csc.fi)... 86.50.254.18, 86.50.254.19\n",
            "Connecting to object.pouta.csc.fi (object.pouta.csc.fi)|86.50.254.18|:443... connected.\n",
            "HTTP request sent, awaiting response... 200 OK\n",
            "Length: 10014972 (9.6M) [application/zip]\n",
            "Saving to: ‘en-fr.txt.zip’\n",
            "\n",
            "en-fr.txt.zip       100%[===================>]   9.55M  5.67MB/s    in 1.7s    \n",
            "\n",
            "2022-11-19 18:04:13 (5.67 MB/s) - ‘en-fr.txt.zip’ saved [10014972/10014972]\n",
            "\n",
            "Archive:  en-fr.txt.zip\n",
            "  inflating: UN.en-fr.en             \n",
            "  inflating: UN.en-fr.fr             \n",
            "  inflating: README                  \n"
          ]
        }
      ]
    },
    {
      "cell_type": "markdown",
      "source": [
        "# Data Filtering\n",
        "\n",
        "Filtering out low-quality segments can help improve the translation quality of the output MT model. This might include misalignments, empty segments, duplicates, among other issues."
      ],
      "metadata": {
        "id": "5G6GTlXa86Qb"
      }
    },
    {
      "cell_type": "code",
      "metadata": {
        "id": "b-9jDIWarB-9",
        "colab": {
          "base_uri": "https://localhost:8080/"
        },
        "outputId": "ba753eac-6fb2-418e-94e7-e588a86b9dd6"
      },
      "source": [
        "# Filter the dataset\n",
        "# Arguments: source file, target file, source language, target language\n",
        "!python3 MT-Preparation/filtering/filter.py UN.en-fr.fr UN.en-fr.en fr en"
      ],
      "execution_count": null,
      "outputs": [
        {
          "output_type": "stream",
          "name": "stdout",
          "text": [
            "Dataframe shape (rows, columns): (74067, 2)\n",
            "--- Rows with Empty Cells Deleted\t--> Rows: 74067\n",
            "--- Duplicates Deleted\t\t\t--> Rows: 60662\n",
            "--- Source-Copied Rows Deleted\t\t--> Rows: 60476\n",
            "--- Too Long Source/Target Deleted\t--> Rows: 59719\n",
            "--- HTML Removed\t\t\t--> Rows: 59719\n",
            "--- Rows will remain in true-cased\t--> Rows: 59719\n",
            "--- Rows with Empty Cells Deleted\t--> Rows: 59719\n",
            "--- Rows Shuffled\t\t\t--> Rows: 59719\n",
            "--- Source Saved: UN.en-fr.fr-filtered.fr\n",
            "--- Target Saved: UN.en-fr.en-filtered.en\n"
          ]
        }
      ]
    },
    {
      "cell_type": "markdown",
      "source": [
        "# Tokenization / Sub-wording\n",
        "\n",
        "To build a vocabulary for any NLP model, you have to tokenize (i.e. split) sentences into smaller units. Word-based tokenization used to be the way to go; in this case, each word would be a token. However, an MT model can only learn a specific number of vocabulary tokens due to limited hardware resources. To solve this issue, sub-words are used instead of whole words. At translation time, when the model sees a new word/token that looks like a word/token it has in the vocabulary, it still can try to continue the translation instead of marking this word as “unknown” or “unk”.\n",
        "\n",
        "There are a few approaches to sub-wording such as BPE and the unigram model. One of the famous toolkits that incorporates the most common approaches is [SentencePiece](https://github.com/google/sentencepiece). Note that you have to train a sub-wording model and then use it. After translation, you will have to “desubword” or “decode” your text back using the same SentencePiece model.\n",
        "\n"
      ],
      "metadata": {
        "id": "IbRpxXjC78c0"
      }
    },
    {
      "cell_type": "code",
      "metadata": {
        "id": "n9c1pqhuru3j",
        "colab": {
          "base_uri": "https://localhost:8080/"
        },
        "outputId": "d980a82b-1968-40b4-e875-78c59bc446b9"
      },
      "source": [
        "!ls MT-Preparation/subwording/"
      ],
      "execution_count": null,
      "outputs": [
        {
          "output_type": "stream",
          "name": "stdout",
          "text": [
            "1-train_bpe.py\t1-train_unigram.py  2-subword.py  3-desubword.py\n"
          ]
        }
      ]
    },
    {
      "cell_type": "code",
      "metadata": {
        "id": "weSS6QDPsOUJ",
        "colab": {
          "base_uri": "https://localhost:8080/"
        },
        "outputId": "23061a1e-b114-48ee-d2e3-e7e469840d55"
      },
      "source": [
        "# Train a SentencePiece model for subword tokenization\n",
        "!python3 MT-Preparation/subwording/1-train_unigram.py UN.en-fr.fr-filtered.fr UN.en-fr.en-filtered.en"
      ],
      "execution_count": null,
      "outputs": [
        {
          "output_type": "stream",
          "name": "stdout",
          "text": [
            "sentencepiece_trainer.cc(177) LOG(INFO) Running command: --input=UN.en-fr.fr-filtered.fr --model_prefix=source --vocab_size=50000 --hard_vocab_limit=false --split_digits=true\n",
            "sentencepiece_trainer.cc(77) LOG(INFO) Starts training with : \n",
            "trainer_spec {\n",
            "  input: UN.en-fr.fr-filtered.fr\n",
            "  input_format: \n",
            "  model_prefix: source\n",
            "  model_type: UNIGRAM\n",
            "  vocab_size: 50000\n",
            "  self_test_sample_size: 0\n",
            "  character_coverage: 0.9995\n",
            "  input_sentence_size: 0\n",
            "  shuffle_input_sentence: 1\n",
            "  seed_sentencepiece_size: 1000000\n",
            "  shrinking_factor: 0.75\n",
            "  max_sentence_length: 4192\n",
            "  num_threads: 16\n",
            "  num_sub_iterations: 2\n",
            "  max_sentencepiece_length: 16\n",
            "  split_by_unicode_script: 1\n",
            "  split_by_number: 1\n",
            "  split_by_whitespace: 1\n",
            "  split_digits: 1\n",
            "  treat_whitespace_as_suffix: 0\n",
            "  allow_whitespace_only_pieces: 0\n",
            "  required_chars: \n",
            "  byte_fallback: 0\n",
            "  vocabulary_output_piece_score: 1\n",
            "  train_extremely_large_corpus: 0\n",
            "  hard_vocab_limit: 0\n",
            "  use_all_vocab: 0\n",
            "  unk_id: 0\n",
            "  bos_id: 1\n",
            "  eos_id: 2\n",
            "  pad_id: -1\n",
            "  unk_piece: <unk>\n",
            "  bos_piece: <s>\n",
            "  eos_piece: </s>\n",
            "  pad_piece: <pad>\n",
            "  unk_surface:  ⁇ \n",
            "  enable_differential_privacy: 0\n",
            "  differential_privacy_noise_level: 0\n",
            "  differential_privacy_clipping_threshold: 0\n",
            "}\n",
            "normalizer_spec {\n",
            "  name: nmt_nfkc\n",
            "  add_dummy_prefix: 1\n",
            "  remove_extra_whitespaces: 1\n",
            "  escape_whitespaces: 1\n",
            "  normalization_rule_tsv: \n",
            "}\n",
            "denormalizer_spec {}\n",
            "trainer_interface.cc(350) LOG(INFO) SentenceIterator is not specified. Using MultiFileSentenceIterator.\n",
            "trainer_interface.cc(181) LOG(INFO) Loading corpus: UN.en-fr.fr-filtered.fr\n",
            "trainer_interface.cc(406) LOG(INFO) Loaded all 59719 sentences\n",
            "trainer_interface.cc(422) LOG(INFO) Adding meta_piece: <unk>\n",
            "trainer_interface.cc(422) LOG(INFO) Adding meta_piece: <s>\n",
            "trainer_interface.cc(422) LOG(INFO) Adding meta_piece: </s>\n",
            "trainer_interface.cc(427) LOG(INFO) Normalizing sentences...\n",
            "trainer_interface.cc(536) LOG(INFO) all chars count=19614832\n",
            "trainer_interface.cc(547) LOG(INFO) Done: 99.9546% characters are covered.\n",
            "trainer_interface.cc(557) LOG(INFO) Alphabet size=82\n",
            "trainer_interface.cc(558) LOG(INFO) Final character coverage=0.999546\n",
            "trainer_interface.cc(590) LOG(INFO) Done! preprocessed 59719 sentences.\n",
            "unigram_model_trainer.cc(146) LOG(INFO) Making suffix array...\n",
            "unigram_model_trainer.cc(150) LOG(INFO) Extracting frequent sub strings...\n",
            "unigram_model_trainer.cc(201) LOG(INFO) Initialized 61805 seed sentencepieces\n",
            "trainer_interface.cc(596) LOG(INFO) Tokenizing input sentences with whitespace: 59719\n",
            "trainer_interface.cc(607) LOG(INFO) Done! 48938\n",
            "unigram_model_trainer.cc(491) LOG(INFO) Using 48938 sentences for EM training\n",
            "unigram_model_trainer.cc(507) LOG(INFO) EM sub_iter=0 size=23065 obj=12.0957 num_tokens=205556 num_tokens/piece=8.91203\n",
            "unigram_model_trainer.cc(507) LOG(INFO) EM sub_iter=1 size=16778 obj=8.81693 num_tokens=205778 num_tokens/piece=12.2648\n",
            "trainer_interface.cc(685) LOG(INFO) Saving model: source.model\n",
            "trainer_interface.cc(697) LOG(INFO) Saving vocabs: source.vocab\n",
            "Done, training a SentencepPiece model for the Source finished successfully!\n",
            "sentencepiece_trainer.cc(177) LOG(INFO) Running command: --input=UN.en-fr.en-filtered.en --model_prefix=target --vocab_size=50000 --hard_vocab_limit=false --split_digits=true\n",
            "sentencepiece_trainer.cc(77) LOG(INFO) Starts training with : \n",
            "trainer_spec {\n",
            "  input: UN.en-fr.en-filtered.en\n",
            "  input_format: \n",
            "  model_prefix: target\n",
            "  model_type: UNIGRAM\n",
            "  vocab_size: 50000\n",
            "  self_test_sample_size: 0\n",
            "  character_coverage: 0.9995\n",
            "  input_sentence_size: 0\n",
            "  shuffle_input_sentence: 1\n",
            "  seed_sentencepiece_size: 1000000\n",
            "  shrinking_factor: 0.75\n",
            "  max_sentence_length: 4192\n",
            "  num_threads: 16\n",
            "  num_sub_iterations: 2\n",
            "  max_sentencepiece_length: 16\n",
            "  split_by_unicode_script: 1\n",
            "  split_by_number: 1\n",
            "  split_by_whitespace: 1\n",
            "  split_digits: 1\n",
            "  treat_whitespace_as_suffix: 0\n",
            "  allow_whitespace_only_pieces: 0\n",
            "  required_chars: \n",
            "  byte_fallback: 0\n",
            "  vocabulary_output_piece_score: 1\n",
            "  train_extremely_large_corpus: 0\n",
            "  hard_vocab_limit: 0\n",
            "  use_all_vocab: 0\n",
            "  unk_id: 0\n",
            "  bos_id: 1\n",
            "  eos_id: 2\n",
            "  pad_id: -1\n",
            "  unk_piece: <unk>\n",
            "  bos_piece: <s>\n",
            "  eos_piece: </s>\n",
            "  pad_piece: <pad>\n",
            "  unk_surface:  ⁇ \n",
            "  enable_differential_privacy: 0\n",
            "  differential_privacy_noise_level: 0\n",
            "  differential_privacy_clipping_threshold: 0\n",
            "}\n",
            "normalizer_spec {\n",
            "  name: nmt_nfkc\n",
            "  add_dummy_prefix: 1\n",
            "  remove_extra_whitespaces: 1\n",
            "  escape_whitespaces: 1\n",
            "  normalization_rule_tsv: \n",
            "}\n",
            "denormalizer_spec {}\n",
            "trainer_interface.cc(350) LOG(INFO) SentenceIterator is not specified. Using MultiFileSentenceIterator.\n",
            "trainer_interface.cc(181) LOG(INFO) Loading corpus: UN.en-fr.en-filtered.en\n",
            "trainer_interface.cc(406) LOG(INFO) Loaded all 59719 sentences\n",
            "trainer_interface.cc(422) LOG(INFO) Adding meta_piece: <unk>\n",
            "trainer_interface.cc(422) LOG(INFO) Adding meta_piece: <s>\n",
            "trainer_interface.cc(422) LOG(INFO) Adding meta_piece: </s>\n",
            "trainer_interface.cc(427) LOG(INFO) Normalizing sentences...\n",
            "trainer_interface.cc(536) LOG(INFO) all chars count=17772658\n",
            "trainer_interface.cc(547) LOG(INFO) Done: 99.9623% characters are covered.\n",
            "trainer_interface.cc(557) LOG(INFO) Alphabet size=70\n",
            "trainer_interface.cc(558) LOG(INFO) Final character coverage=0.999623\n",
            "trainer_interface.cc(590) LOG(INFO) Done! preprocessed 59719 sentences.\n",
            "unigram_model_trainer.cc(146) LOG(INFO) Making suffix array...\n",
            "unigram_model_trainer.cc(150) LOG(INFO) Extracting frequent sub strings...\n",
            "unigram_model_trainer.cc(201) LOG(INFO) Initialized 46525 seed sentencepieces\n",
            "trainer_interface.cc(596) LOG(INFO) Tokenizing input sentences with whitespace: 59719\n",
            "trainer_interface.cc(607) LOG(INFO) Done! 44916\n",
            "unigram_model_trainer.cc(491) LOG(INFO) Using 44916 sentences for EM training\n",
            "unigram_model_trainer.cc(507) LOG(INFO) EM sub_iter=0 size=19499 obj=11.8498 num_tokens=207239 num_tokens/piece=10.6282\n",
            "unigram_model_trainer.cc(507) LOG(INFO) EM sub_iter=1 size=13744 obj=8.60033 num_tokens=207645 num_tokens/piece=15.108\n",
            "trainer_interface.cc(685) LOG(INFO) Saving model: target.model\n",
            "trainer_interface.cc(697) LOG(INFO) Saving vocabs: target.vocab\n",
            "Done, training a SentencepPiece model for the Target finished successfully!\n"
          ]
        }
      ]
    },
    {
      "cell_type": "code",
      "metadata": {
        "id": "T89THXeRslKu",
        "colab": {
          "base_uri": "https://localhost:8080/"
        },
        "outputId": "71fd0af6-3d1c-4726-9584-aa89d715d04a"
      },
      "source": [
        "!ls"
      ],
      "execution_count": null,
      "outputs": [
        {
          "output_type": "stream",
          "name": "stdout",
          "text": [
            "en-fr.txt.zip\tsource.model  target.vocab\t       UN.en-fr.fr\n",
            "MT-Preparation\tsource.vocab  UN.en-fr.en\t       UN.en-fr.fr-filtered.fr\n",
            "README\t\ttarget.model  UN.en-fr.en-filtered.en\n"
          ]
        }
      ]
    },
    {
      "cell_type": "code",
      "metadata": {
        "id": "hBWQoCfBsqlT",
        "colab": {
          "base_uri": "https://localhost:8080/"
        },
        "outputId": "3dbc3400-1ab6-4d69-e93b-73bfeb1d21db"
      },
      "source": [
        "# Subword the dataset\n",
        "!python3 MT-Preparation/subwording/2-subword.py source.model target.model UN.en-fr.fr-filtered.fr UN.en-fr.en-filtered.en"
      ],
      "execution_count": null,
      "outputs": [
        {
          "output_type": "stream",
          "name": "stdout",
          "text": [
            "Source Model: source.model\n",
            "Target Model: target.model\n",
            "Source Dataset: UN.en-fr.fr-filtered.fr\n",
            "Target Dataset: UN.en-fr.en-filtered.en\n",
            "Done subwording the source file! Output: UN.en-fr.fr-filtered.fr.subword\n",
            "Done subwording the target file! Output: UN.en-fr.en-filtered.en.subword\n"
          ]
        }
      ]
    },
    {
      "cell_type": "code",
      "metadata": {
        "id": "CnfMRckbvNfZ",
        "colab": {
          "base_uri": "https://localhost:8080/"
        },
        "outputId": "b5b967ee-ab5a-4016-b310-031a042647da"
      },
      "source": [
        "# First 3 lines before subwording\n",
        "!head -n 3 UN.en-fr.fr-filtered.fr && echo \"-----\" && head -n 3 UN.en-fr.en-filtered.en"
      ],
      "execution_count": null,
      "outputs": [
        {
          "output_type": "stream",
          "name": "stdout",
          "text": [
            "Ayant examiné le rapport du Comité des conférences pour 2006Documents officiels de l'Assemblée générale, soixante et unième session, Supplément no 32 (A/61/32). et les rapports pertinents du Secrétaire généralA/61/129 et Add.1 et A/61/300.,\n",
            "Consciente en outre du rôle indispensable que jouent les professionnels de la santé dans la promotion et la protection du droit de toute personne de jouir du meilleur état de santé physique et mentale possible,\n",
            "2. Réaffirme que la fourchette de 10 à 20 pour cent établie pour la marge entre la rémunération nette des administrateurs et fonctionnaires de rang supérieur en poste à New York et celle des fonctionnaires de la fonction publique de référence occupant des emplois comparables reste applicable, étant entendu que la marge devrait être maintenue aux alentours du niveau souhaitable, le point médian (15 pour cent), pendant un certain temps ;\n",
            "-----\n",
            "Having considered the report of the Committee on Conferences for 2006Official Records of the General Assembly, Sixty-first Session, Supplement No. 32 (A/61/32). and the relevant reports of the Secretary-General,A/61/129 and Add.1 and A/61/300.\n",
            "Recognizing further the indispensable role that health professionals play in the promotion and protection of the right of everyone to the enjoyment of the highest attainable standard of physical and mental health,\n",
            "2. Reaffirms that the range of 110 to 120 for the margin between the net remuneration of officials in the Professional and higher categories of the United Nations in New York and the officials in comparable positions in the comparator civil service should continue to apply, on the understanding that the margin would be maintained at a level around the desirable midpoint of 115 over a period of time;\n"
          ]
        }
      ]
    },
    {
      "cell_type": "code",
      "metadata": {
        "id": "hs_xxKK_vf1Z",
        "colab": {
          "base_uri": "https://localhost:8080/"
        },
        "outputId": "80f0650e-cbf9-4855-bdca-2c6424b5423d"
      },
      "source": [
        "# First 3 lines after subwording\n",
        "!head -n 3 UN.en-fr.fr-filtered.fr.subword && echo \"---\" && head -n 3 UN.en-fr.en-filtered.en.subword"
      ],
      "execution_count": null,
      "outputs": [
        {
          "output_type": "stream",
          "name": "stdout",
          "text": [
            "▁A yant ▁examiné ▁le ▁rapport ▁du ▁Comité ▁des ▁conférences ▁pour ▁ 2 0 0 6 Document s ▁officiels ▁de ▁l ' Assemblée ▁générale , ▁soixante ▁et ▁unième ▁session , ▁S upplément ▁no ▁ 3 2 ▁( A / 6 1 / 3 2 ). ▁et ▁les ▁rapports ▁pertinents ▁du ▁Secrétaire ▁général A / 6 1 / 1 2 9 ▁et ▁Add . 1 ▁et ▁A / 6 1 / 3 0 0 .,\n",
            "▁Conscient e ▁en ▁outre ▁du ▁rôle ▁indispensable ▁que ▁jouent ▁les ▁professionnels ▁de ▁la ▁santé ▁d ans ▁la ▁promotion ▁et ▁la ▁protection ▁du ▁droit ▁de ▁toute ▁personne ▁de ▁joui r ▁du ▁meilleur ▁état ▁de ▁santé ▁physique ▁et ▁mentale ▁possible ,\n",
            "▁ 2 . ▁Réaffirme ▁que ▁la ▁fourchette ▁de ▁ 1 0 ▁à ▁ 2 0 ▁pour ▁cent ▁établie ▁pour ▁la ▁marge ▁entre ▁la ▁rémunération ▁nette ▁des ▁administrateurs ▁et ▁fonctionnaires ▁de ▁rang ▁supérieur ▁en ▁poste ▁à ▁N ew ▁ Y ork ▁et ▁celle ▁des ▁fonctionnaires ▁de ▁la ▁fonction ▁publique ▁de ▁référence ▁occupant ▁des ▁emplois ▁comparables ▁reste ▁applicable , ▁étant ▁entendu ▁que ▁la ▁marge ▁devrait ▁être ▁maintenue ▁aux ▁alentours ▁du ▁niveau ▁souhaitable , ▁le ▁point ▁médi an ▁( 1 5 ▁pour ▁cent ), ▁ pendant ▁un ▁certain ▁temps ▁;\n",
            "---\n",
            "▁Hav ing ▁considered ▁the ▁report ▁of ▁the ▁Committee ▁on ▁Conferences ▁for ▁ 2 0 0 6 Official ▁Record s ▁of ▁the ▁General ▁Assembly , ▁S ixty - first ▁Session , ▁Supplement ▁No . ▁ 3 2 ▁( A / 6 1 / 3 2 ). ▁and ▁the ▁relevant ▁reports ▁of ▁the ▁Secretary - General , A / 6 1 / 1 2 9 ▁and ▁Add . 1 ▁and ▁A / 6 1 / 3 0 0 .\n",
            "▁Recognizing ▁further ▁the ▁indispensable ▁role ▁that ▁health ▁professionals ▁play ▁in ▁the ▁promotion ▁and ▁protection ▁of ▁the ▁right ▁of ▁everyone ▁to ▁the ▁enjoyment ▁of ▁the ▁high est ▁at tainable ▁standard ▁of ▁physical ▁and ▁mental ▁health ,\n",
            "▁ 2 . ▁Reaffirms ▁that ▁the ▁range ▁of ▁ 1 1 0 ▁to ▁ 1 2 0 ▁for ▁the ▁margin ▁between ▁the ▁net ▁remuneration ▁of ▁officials ▁in ▁the ▁Professional ▁and ▁higher ▁categories ▁of ▁the ▁Unit ed ▁Nations ▁in ▁New ▁York ▁and ▁the ▁officials ▁in ▁comparable ▁positions ▁in ▁the ▁comparator ▁civil ▁service ▁should ▁continue ▁to ▁apply , ▁on ▁the ▁understanding ▁that ▁the ▁margin ▁would ▁be ▁maintained ▁at ▁a ▁level ▁a round ▁the ▁desirable ▁midpoint ▁of ▁ 1 1 5 ▁over ▁a ▁period ▁of ▁time ;\n"
          ]
        }
      ]
    },
    {
      "cell_type": "markdown",
      "source": [
        "# Data Splitting\n",
        "\n",
        "We usually split our dataset into 3 portions:\n",
        "\n",
        "1. training dataset - used for training the model;\n",
        "2. development dataset - used to run regular validations during the training to help improve the model parameters; and\n",
        "3. testing dataset - a holdout dataset used after the model finishes training to finally evaluate the model on unseen data."
      ],
      "metadata": {
        "id": "YgTZ-m718neI"
      }
    },
    {
      "cell_type": "code",
      "metadata": {
        "id": "KfQRMGRixBAL",
        "colab": {
          "base_uri": "https://localhost:8080/"
        },
        "outputId": "31bde92c-9062-47bd-8d5b-8593c11586c7"
      },
      "source": [
        "# Split the dataset into training set, development set, and test set\n",
        "# Development and test sets should be between 1000 and 5000 segments (here we chose 2000)\n",
        "!python3 MT-Preparation/train_dev_split/train_dev_test_split.py 2000 2000 UN.en-fr.fr-filtered.fr.subword UN.en-fr.en-filtered.en.subword"
      ],
      "execution_count": null,
      "outputs": [
        {
          "output_type": "stream",
          "name": "stdout",
          "text": [
            "Dataframe shape: (59719, 2)\n",
            "--- Empty Cells Deleted --> Rows: 59719\n",
            "--- Wrote Files\n",
            "Done!\n",
            "Output files\n",
            "UN.en-fr.fr-filtered.fr.subword.train\n",
            "UN.en-fr.en-filtered.en.subword.train\n",
            "UN.en-fr.fr-filtered.fr.subword.dev\n",
            "UN.en-fr.en-filtered.en.subword.dev\n",
            "UN.en-fr.fr-filtered.fr.subword.test\n",
            "UN.en-fr.en-filtered.en.subword.test\n"
          ]
        }
      ]
    },
    {
      "cell_type": "code",
      "metadata": {
        "id": "6y3HQr4nxYib",
        "colab": {
          "base_uri": "https://localhost:8080/"
        },
        "outputId": "c5fd9355-830a-4904-bf5a-189427fd00bc"
      },
      "source": [
        "# Line count for the subworded train, dev, test datatest\n",
        "!wc -l *.subword.*"
      ],
      "execution_count": null,
      "outputs": [
        {
          "output_type": "stream",
          "name": "stdout",
          "text": [
            "    2000 UN.en-fr.en-filtered.en.subword.dev\n",
            "    2000 UN.en-fr.en-filtered.en.subword.test\n",
            "   55719 UN.en-fr.en-filtered.en.subword.train\n",
            "    2000 UN.en-fr.fr-filtered.fr.subword.dev\n",
            "    2000 UN.en-fr.fr-filtered.fr.subword.test\n",
            "   55719 UN.en-fr.fr-filtered.fr.subword.train\n",
            "  119438 total\n"
          ]
        }
      ]
    },
    {
      "cell_type": "code",
      "metadata": {
        "id": "0duUCLP93GKE",
        "colab": {
          "base_uri": "https://localhost:8080/"
        },
        "outputId": "42f7d78e-9b55-4bc0-a989-f30dc786af68"
      },
      "source": [
        "# Check the first and last line from each dataset\n",
        "\n",
        "# -------------------------------------------\n",
        "# Change this cell to print your name\n",
        "!echo -e \"My name is: FirstName SecondName \\n\"\n",
        "# -------------------------------------------\n",
        "\n",
        "!echo \"---First line---\"\n",
        "!head -n 1 *.{train,dev,test}\n",
        "\n",
        "!echo -e \"\\n---Last line---\"\n",
        "!tail -n 1 *.{train,dev,test}"
      ],
      "execution_count": null,
      "outputs": [
        {
          "output_type": "stream",
          "name": "stdout",
          "text": [
            "My name is: FirstName SecondName \n",
            "\n",
            "---First line---\n",
            "==> UN.en-fr.en-filtered.en.subword.train <==\n",
            "▁Hav ing ▁considered ▁the ▁report ▁of ▁the ▁Committee ▁on ▁Conferences ▁for ▁ 2 0 0 6 Official ▁Record s ▁of ▁the ▁General ▁Assembly , ▁S ixty - first ▁Session , ▁Supplement ▁No . ▁ 3 2 ▁( A / 6 1 / 3 2 ). ▁and ▁the ▁relevant ▁reports ▁of ▁the ▁Secretary - General , A / 6 1 / 1 2 9 ▁and ▁Add . 1 ▁and ▁A / 6 1 / 3 0 0 .\n",
            "\n",
            "==> UN.en-fr.fr-filtered.fr.subword.train <==\n",
            "▁A yant ▁examiné ▁le ▁rapport ▁du ▁Comité ▁des ▁conférences ▁pour ▁ 2 0 0 6 Document s ▁officiels ▁de ▁l ' Assemblée ▁générale , ▁soixante ▁et ▁unième ▁session , ▁S upplément ▁no ▁ 3 2 ▁( A / 6 1 / 3 2 ). ▁et ▁les ▁rapports ▁pertinents ▁du ▁Secrétaire ▁général A / 6 1 / 1 2 9 ▁et ▁Add . 1 ▁et ▁A / 6 1 / 3 0 0 .,\n",
            "\n",
            "==> UN.en-fr.en-filtered.en.subword.dev <==\n",
            "▁ 1 6 . ▁Further ▁reaffirms ▁that ▁preferences ▁granted ▁to ▁developing ▁countries , ▁pursuan t ▁to ▁the ▁\" enabl ing ▁clause \", Decision ▁of ▁the ▁Contract ing ▁Parties ▁of ▁ 2 8 ▁November ▁ 1 9 7 9 ▁( L / 4 9 0 3 ). ▁A vailable ▁from ▁ ht tp :// doc s online . w to . org . ▁should ▁be ▁generalized , ▁non - reciprocal ▁and ▁non - discriminatory ;\n",
            "\n",
            "==> UN.en-fr.fr-filtered.fr.subword.dev <==\n",
            "▁ 1 6 . ▁Réaffirme ▁en ▁outre ▁que ▁les ▁préférences ▁accordées ▁aux ▁pays ▁en ▁développement , ▁conformé ment ▁à ▁la ▁« ▁clause ▁d ' habilitation ▁» Décision ▁L / 4 9 0 3 ▁des ▁Parties ▁contractantes ▁en ▁date ▁du ▁ 2 8 ▁novembre ▁ 1 9 7 9 . ▁D isponible ▁à ▁l ' adresse ▁suivante ▁: ▁http :// docs on line . wt o . org . ▁devraient ▁être ▁généralisées , ▁et ▁n ' être ▁ni ▁réciproque s ▁ni ▁ discriminatoires ▁;\n",
            "\n",
            "==> UN.en-fr.en-filtered.en.subword.test <==\n",
            "▁ 1 1 . ▁Reaffirms ▁the ▁commitments ▁made ▁at ▁the ▁Fourth ▁M inisterial ▁Conference ▁of ▁the ▁World ▁Trade ▁Organization ▁held ▁at ▁Doha ▁and ▁at ▁the ▁Thir d ▁Unit ed ▁Nations ▁Conference ▁on ▁the ▁Lea st ▁Developed ▁Countries , ▁held ▁at ▁Brussels ▁from ▁ 1 4 ▁to ▁ 2 0 ▁May ▁ 2 0 0 1 , See ▁A / CONF . 1 9 1 / 1 1 ▁and ▁ 1 2 . ▁and ▁in ▁this ▁regard ▁calls ▁upon ▁developed ▁countries ▁that ▁have ▁not ▁al ready ▁done ▁so ▁to ▁work ▁towards ▁the ▁objective ▁of ▁duty - free , ▁quota - free ▁market ▁access ▁for ▁all ▁least ▁developed ▁countries ' ▁exports , ▁and ▁notes ▁that ▁consideration ▁of ▁proposals ▁for ▁developing ▁countries ▁to ▁contribute ▁to ▁improved ▁market ▁access ▁for ▁least ▁developed ▁countries ▁would ▁also ▁be ▁helpful ;\n",
            "\n",
            "==> UN.en-fr.fr-filtered.fr.subword.test <==\n",
            "▁ 1 1 . ▁Réaffirme ▁les ▁engagements ▁pris ▁lors ▁de ▁la ▁quatrième ▁Conférence ▁ministérielle ▁de ▁l ' Organisation ▁mondiale ▁du ▁commerce , ▁réunie ▁à ▁Doha , ▁et ▁de ▁la ▁troisième ▁Conférence ▁des ▁Nations ▁Unies ▁sur ▁les ▁pays ▁les ▁moins ▁avancés , ▁tenue ▁à ▁Bruxelles ▁du ▁ 1 4 ▁au ▁ 2 0 ▁mai ▁ 2 0 0 1 Voir ▁A / CONF . 1 9 1 / 1 1 ▁et ▁ 1 2 . ▁et , ▁à ▁ce ▁propos , ▁demande ▁aux ▁pays ▁développés ▁qui ▁ne ▁l ' ont ▁pas ▁encore ▁fait ▁d ' œuvrer ▁pour ▁que ▁tous ▁les ▁produits ▁en ▁provenance ▁des ▁pays ▁les ▁moins ▁avancés ▁aient ▁accès ▁aux ▁marchés ▁en ▁franchise ▁de ▁droits ▁et ▁ hors ▁quota , ▁et ▁note ▁qu ' il ▁serait ▁également ▁utile ▁d ' examiner ▁les ▁propositions ▁tendant ▁à ▁ce ▁que ▁les ▁pays ▁en ▁développement ▁contribuent ▁à ▁faciliter ▁l ' accès ▁des ▁pays ▁les ▁moins ▁avancés ▁aux ▁marchés ▁;\n",
            "\n",
            "---Last line---\n",
            "==> UN.en-fr.en-filtered.en.subword.train <==\n",
            "▁ 2 0 . ▁Recalls ▁that ▁the ▁Committee ▁hold s ▁that ▁the ▁prohibition ▁of ▁the ▁dissemination ▁of ▁ideas ▁based ▁on ▁racial ▁superiority ▁or ▁racial ▁hatred ▁is ▁compatib le ▁with ▁the ▁right ▁to ▁freedom ▁of ▁opinion ▁and ▁expression ▁as ▁outlin ed ▁in ▁article ▁ 1 9 ▁of ▁the ▁Universal ▁Declaration ▁of ▁Human ▁Rights ▁and ▁in ▁article ▁ 5 ▁of ▁the ▁Convention ;\n",
            "\n",
            "==> UN.en-fr.fr-filtered.fr.subword.train <==\n",
            "▁ 2 0 . ▁Rappelle ▁que ▁le ▁Comité ▁considère ▁que ▁l ' interdiction ▁de ▁propag er ▁des ▁idées ▁inspirée s ▁par ▁des ▁notion s ▁de ▁supéri orité ▁raciale ▁ou ▁par ▁la ▁haine ▁raciale ▁est ▁compatible ▁avec ▁le ▁droit ▁à ▁la ▁liberté ▁d ' opinion ▁et ▁d ' expression ▁énoncé ▁à ▁l ' article ▁ 1 9 ▁de ▁la ▁Déclaration ▁universelle ▁des ▁droits ▁de ▁l ' homme ▁et ▁à ▁l ' article ▁ 5 ▁de ▁la ▁Convention ▁;\n",
            "\n",
            "==> UN.en-fr.en-filtered.en.subword.dev <==\n",
            "▁ 8 . ▁A lso ▁encourages ▁the ▁involvement ▁of ▁the ▁mass ▁media ▁in ▁education ▁for ▁a ▁culture ▁of ▁peace ▁and ▁non - violence , ▁with ▁particular ▁regard ▁to ▁children ▁and ▁young ▁people , ▁including ▁through ▁the ▁planned ▁expansion ▁of ▁the ▁Culture ▁of ▁Peace ▁New s ▁Network ▁as ▁a ▁global ▁network ▁of ▁Internet ▁sites ▁in ▁ many ▁languages ;\n",
            "\n",
            "==> UN.en-fr.fr-filtered.fr.subword.dev <==\n",
            "▁ 8 . ▁Engage ▁également ▁les ▁médias ▁à ▁participer ▁à ▁l ' éducation ▁en ▁faveur ▁d ' une ▁culture ▁de ▁non - violence ▁et ▁de ▁paix , ▁en ▁particulier ▁en ▁ce ▁qui ▁concerne ▁les ▁enfants ▁et ▁les ▁jeunes , ▁notamment ▁au ▁moyen ▁de ▁l ' élargissement ▁prévu ▁du ▁réseau ▁d ' information ▁relatif ▁à ▁la ▁culture ▁de ▁paix ▁qui ▁de viendrait ▁un ▁réseau ▁mondial ▁de ▁site s ▁Internet ▁multilingue s ▁;\n",
            "\n",
            "==> UN.en-fr.en-filtered.en.subword.test <==\n",
            "▁ 5 . ▁Welcomes ▁the ▁efforts ▁that ▁are ▁being ▁made ▁to ▁improve ▁the ▁utilization ▁of ▁the ▁conference ▁facilities ▁at ▁the ▁Unit ed ▁Nations ▁Office ▁at ▁Nairobi , ▁as ▁set ▁out ▁in ▁the ▁report ▁of ▁the ▁Secretary - General ; A / 5 8 / 5 3 0 .\n",
            "\n",
            "==> UN.en-fr.fr-filtered.fr.subword.test <==\n",
            "▁ 5 ▁Se ▁félicite ▁des ▁efforts ▁qui ▁sont ▁faits ▁pour ▁améliorer ▁le ▁ taux ▁d ' utilisation ▁des ▁installations ▁de ▁conférence ▁à ▁l ' Office ▁des ▁Nations ▁Unies ▁à ▁Nairobi , ▁ainsi ▁qu ' il ▁ressort ▁du ▁rapport ▁du ▁Secrétaire ▁général A / 5 8 / 5 3 0 . ▁;\n"
          ]
        }
      ]
    },
    {
      "cell_type": "markdown",
      "metadata": {
        "id": "T9GpLuAvIwtT"
      },
      "source": [
        "# Mount your drive to save your data\n",
        "\n",
        "Click the folder icon to the left, and then click the Google Drive icon.\n",
        "\n",
        "![mount-drive.png](data:image/png;base64,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)"
      ]
    },
    {
      "cell_type": "code",
      "metadata": {
        "id": "xZjU1Lx8IxmS"
      },
      "source": [
        "# Copy your data to your Google Drive\n",
        "!cp -R /content/nmt/ /content/drive/MyDrive/"
      ],
      "execution_count": null,
      "outputs": []
    }
  ]
}